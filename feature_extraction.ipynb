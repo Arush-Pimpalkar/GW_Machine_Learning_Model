{
 "cells": [
  {
   "cell_type": "code",
   "execution_count": 4,
   "metadata": {},
   "outputs": [],
   "source": [
    "import tsfresh.feature_extraction\n",
    "from avro.datafile import DataFileReader\n",
    "from avro.io import DatumReader\n",
    "import numpy as np"
   ]
  },
  {
   "cell_type": "code",
   "execution_count": 2,
   "metadata": {},
   "outputs": [
    {
     "name": "stdout",
     "output_type": "stream",
     "text": [
      "2\n"
     ]
    }
   ],
   "source": [
    "x = [1, 2, 3, 4, 5, 5, 6, 7, 7, 8, 89, 9, 0, 12]\n",
    "avg = tsfresh.feature_extraction.feature_calculators.count_above_mean(x)\n",
    "print(avg)"
   ]
  },
  {
   "cell_type": "code",
   "execution_count": 5,
   "metadata": {},
   "outputs": [
    {
     "name": "stdout",
     "output_type": "stream",
     "text": [
      "[0.00000000e+00 2.44140625e-04 4.88281250e-04 ... 1.95239258e+00\n",
      " 1.95263672e+00 1.95288086e+00]\n"
     ]
    }
   ],
   "source": [
    "# Path to the .avro file\n",
    "file_path = \"Data/Raw_noise_samples/time_series_0.avro\"\n",
    "\n",
    "# Initialize an empty array to store the time series data\n",
    "time_series_array = []\n",
    "\n",
    "# Open the .avro file in read mode\n",
    "with open(file_path, \"rb\") as avro_file:\n",
    "    # Create a DataFileReader\n",
    "    reader = DataFileReader(avro_file, DatumReader())\n",
    "\n",
    "    # Iterate over each record in the .avro file\n",
    "    for record in reader:\n",
    "        # Assuming the time series data is stored in a field called \"timestamp\"\n",
    "        time_series_data = record[\"timestamp\"]\n",
    "\n",
    "        # Append the time series data to the array\n",
    "        time_series_array.append(time_series_data)\n",
    "\n",
    "# Convert the array to a numpy array for further processing\n",
    "time_series_array = np.array(time_series_array)\n",
    "\n",
    "# Print the time series array\n",
    "print(time_series_array)"
   ]
  }
 ],
 "metadata": {
  "kernelspec": {
   "display_name": "python39_1",
   "language": "python",
   "name": "python3"
  },
  "language_info": {
   "codemirror_mode": {
    "name": "ipython",
    "version": 3
   },
   "file_extension": ".py",
   "mimetype": "text/x-python",
   "name": "python",
   "nbconvert_exporter": "python",
   "pygments_lexer": "ipython3",
   "version": "3.9.18"
  }
 },
 "nbformat": 4,
 "nbformat_minor": 2
}
