{
 "cells": [
  {
   "cell_type": "code",
   "execution_count": 19,
   "metadata": {},
   "outputs": [],
   "source": [
    "import pycbc.noise\n",
    "from pycbc.noise import noise_from_psd\n",
    "import pycbc.psd\n",
    "import pylab as plt\n",
    "import pycbc.filter as pfliter\n",
    "from pycbc.waveform import get_td_waveform\n",
    "from avro import schema, datafile, io\n",
    "from avro.datafile import DataFileReader\n",
    "from avro.io import DatumReader\n",
    "import random"
   ]
  },
  {
   "cell_type": "code",
   "execution_count": 20,
   "metadata": {},
   "outputs": [],
   "source": [
    "m1 = 10\n",
    "m2 = 10\n",
    "freq = 2048\n",
    "delta_t = 1.0 / 2048\n",
    "delta_f = 1.0 / 2048\n",
    "flow = 30.0"
   ]
  },
  {
   "cell_type": "code",
   "execution_count": 24,
   "metadata": {},
   "outputs": [],
   "source": [
    "t = 8\n",
    "Fs = 1024 * 2\n",
    "Dt = 1.0 / Fs\n",
    "\n",
    "Df = 0.5 / t\n",
    "Fmax = 1.0 / Dt / 2\n",
    "\n",
    "Tlen = int(t / Dt)\n",
    "flen = int(Tlen / 2 + 1)"
   ]
  },
  {
   "cell_type": "code",
   "execution_count": 22,
   "metadata": {},
   "outputs": [
    {
     "name": "stdout",
     "output_type": "stream",
     "text": [
      "hp = \n"
     ]
    },
    {
     "data": {
      "image/png": "[encoded data removed]",
      "text/plain": [
       "<Figure size 640x480 with 1 Axes>"
      ]
     },
     "metadata": {},
     "output_type": "display_data"
    }
   ],
   "source": [
    "hp, hc = get_td_waveform(\n",
    "    approximant=\"IMRPhenomT\",\n",
    "    mass1=m1,\n",
    "    mass2=m2,\n",
    "    delta_t=Dt,\n",
    "    f_lower=30,\n",
    ")\n",
    "\n",
    "scale = 500\n",
    "hp /= scale\n",
    "hp.resize(8192)\n",
    "hc.resize(8192)\n",
    "hp.roll(len(hp) // random.randint(2, 19))\n",
    "hp.cyclic_time_shift(hp.start_time)\n",
    "\n",
    "print(\"hp = \")\n",
    "plt.plot(hp.sample_times, hp)\n",
    "plt.show()"
   ]
  },
  {
   "cell_type": "code",
   "execution_count": 28,
   "metadata": {},
   "outputs": [
    {
     "ename": "TypeError",
     "evalue": "'FrequencySeries' object is not callable",
     "output_type": "error",
     "traceback": [
      "\u001b[0;31m---------------------------------------------------------------------------\u001b[0m",
      "\u001b[0;31mTypeError\u001b[0m                                 Traceback (most recent call last)",
      "Cell \u001b[0;32mIn[28], line 3\u001b[0m\n\u001b[1;32m      1\u001b[0m psd \u001b[38;5;241m=\u001b[39m pycbc\u001b[38;5;241m.\u001b[39mpsd\u001b[38;5;241m.\u001b[39maLIGOZeroDetHighPower(flen, Df, flow)\n\u001b[0;32m----> 3\u001b[0m \u001b[43mpsd\u001b[49m\u001b[43m(\u001b[49m\u001b[43mflen\u001b[49m\u001b[43m,\u001b[49m\u001b[43m \u001b[49m\u001b[43mDf\u001b[49m\u001b[43m,\u001b[49m\u001b[43m \u001b[49m\u001b[43mflow\u001b[49m\u001b[43m)\u001b[49m\n\u001b[1;32m      5\u001b[0m noisesamples \u001b[38;5;241m=\u001b[39m \u001b[38;5;28mint\u001b[39m(\u001b[38;5;241m4\u001b[39m \u001b[38;5;241m/\u001b[39m Dt)\n\u001b[1;32m      6\u001b[0m noise \u001b[38;5;241m=\u001b[39m noise_from_psd(noisesamples, Dt, psd, seed\u001b[38;5;241m=\u001b[39m\u001b[38;5;241m124\u001b[39m)\n",
      "\u001b[0;31mTypeError\u001b[0m: 'FrequencySeries' object is not callable"
     ]
    }
   ],
   "source": [
    "psd = pycbc.psd.aLIGOZeroDetHighPower(flen, Df, flow)\n",
    "\n",
    "psd(flen, Df, flow)\n",
    "\n",
    "noisesamples = int(4 / Dt)\n",
    "noise = noise_from_psd(noisesamples, Dt, psd, seed=124)\n",
    "\n",
    "noise._epoch = hp._epoch\n",
    "signal = noise + hp\n",
    "\n",
    "plt.specgram(signal, Fs=1.0 / delta_t)\n",
    "plt.show()"
   ]
  },
  {
   "cell_type": "code",
   "execution_count": null,
   "metadata": {},
   "outputs": [
    {
     "ename": "AssertionError",
     "evalue": "",
     "output_type": "error",
     "traceback": [
      "\u001b[0;31m---------------------------------------------------------------------------\u001b[0m",
      "\u001b[0;31mAssertionError\u001b[0m                            Traceback (most recent call last)",
      "Cell \u001b[0;32mIn[18], line 1\u001b[0m\n\u001b[0;32m----> 1\u001b[0m \u001b[38;5;28;01massert\u001b[39;00m flen \u001b[38;5;241m==\u001b[39m \u001b[38;5;28mint\u001b[39m(Fmax \u001b[38;5;241m/\u001b[39m Df) \u001b[38;5;241m+\u001b[39m \u001b[38;5;241m1\u001b[39m\n\u001b[1;32m      2\u001b[0m psd \u001b[38;5;241m=\u001b[39m pycbc\u001b[38;5;241m.\u001b[39mpsd\u001b[38;5;241m.\u001b[39maLIGOZeroDetHighPower(\n\u001b[1;32m      3\u001b[0m     flen,\n\u001b[1;32m      4\u001b[0m )\n",
      "\u001b[0;31mAssertionError\u001b[0m: "
     ]
    }
   ],
   "source": [
    "assert flen == int(Fmax / Df) + 1\n",
    "psd = pycbc.psd.aLIGOZeroDetHighPower(\n",
    "    flen,\n",
    ")"
   ]
  }
 ],
 "metadata": {
  "kernelspec": {
   "display_name": "python39_1",
   "language": "python",
   "name": "python3"
  },
  "language_info": {
   "codemirror_mode": {
    "name": "ipython",
    "version": 3
   },
   "file_extension": ".py",
   "mimetype": "text/x-python",
   "name": "python",
   "nbconvert_exporter": "python",
   "pygments_lexer": "ipython3",
   "version": "3.9.18"
  }
 },
 "nbformat": 4,
 "nbformat_minor": 2
}
